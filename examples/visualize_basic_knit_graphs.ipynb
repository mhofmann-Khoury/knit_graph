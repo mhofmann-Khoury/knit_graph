{
 "cells": [
  {
   "metadata": {},
   "cell_type": "markdown",
   "source": "#",
   "id": "b8fdd4104a572da"
  },
  {
   "metadata": {},
   "cell_type": "markdown",
   "source": [
    "# Knit Graph Visualization Demo\n",
    "\n",
    "This notebook demonstrates the various knitting patterns that can be visualized using the Knit_Graph_Visualizer.\n",
    "Each test case from the unit tests is shown here with interactive visualizations"
   ],
   "id": "60f098606555242"
  },
  {
   "metadata": {},
   "cell_type": "code",
   "source": [
    "# Import required libraries\n",
    "import plotly.io as pio\n",
    "from knit_graphs.basic_knit_graph_generators import (\n",
    "    co_loops,\n",
    "    jersey_swatch,\n",
    "    jersey_tube,\n",
    "    lace_mesh,\n",
    "    kp_rib_swatch,\n",
    "    seed_swatch,\n",
    "    twist_cable,\n",
    ")\n",
    "from knit_graphs.Knit_Graph_Visualizer import visualize_knit_graph\n",
    "\n",
    "# Configure plotly for notebook display\n",
    "pio.renderers.default = \"notebook\"\n",
    "\n",
    "print(\"All imports successful! Ready to visualize knit graphs.\")"
   ],
   "id": "3b129bb49483d206",
   "outputs": [],
   "execution_count": null
  },
  {
   "metadata": {},
   "cell_type": "markdown",
   "source": [
    "# 1. Cast-On Visualizations\n",
    "\n",
    "Cast-on creates the foundation row of loops. We'll show both left-to-right and right-to-left orientations.\n",
    "The orientation of the base course will determine the position of all subsequent loops in the visualization. \n",
    "\n",
    "## Cast On from Right Side\n",
    "Casting on from the right orients the knitgraph so that the first loop is rendered at the 0,0 position and subsequent loops in the bottom course are rendered at increasing integer indices: 0->1->2->3->4."
   ],
   "id": "44d8467fd2ba7299"
  },
  {
   "metadata": {},
   "cell_type": "code",
   "source": [
    "# Cast-on from left\n",
    "width = 5\n",
    "knit_graph_left, _yarn = co_loops(width)\n",
    "fig_left = visualize_knit_graph(\n",
    "    knit_graph_left, \n",
    "    graph_title=\"Cast-On: Left to Right\", \n",
    "    show_figure=True\n",
    ")\n",
    "\n",
    "print(f\"Created cast-on visualization with {width} loops\")"
   ],
   "id": "471c2172d4ea7719",
   "outputs": [],
   "execution_count": null
  },
  {
   "metadata": {},
   "cell_type": "markdown",
   "source": [
    "## Cast On from Left Side\n",
    "Casting on from the left orients the knitgraph so that the first loop is rendered at the left most width of the course in loops. Proceeding loops are positioned in decreasing integer positions."
   ],
   "id": "95093a02c0390dea"
  },
  {
   "metadata": {},
   "cell_type": "code",
   "source": [
    "# Cast-on from right\n",
    "width = 5\n",
    "knit_graph_right, yarn = co_loops(width)\n",
    "fig_right = visualize_knit_graph(\n",
    "    knit_graph_right, \n",
    "    start_on_left=False, \n",
    "    graph_title=\"Cast-On: Right to Left\", \n",
    "    show_figure=True\n",
    ")\n",
    "\n",
    "print(f\"Created right-to-left cast-on visualization with {width} loops\")"
   ],
   "id": "fc4d9edf6562884c",
   "outputs": [],
   "execution_count": null
  },
  {
   "metadata": {},
   "cell_type": "markdown",
   "source": [
    "# 2. Basic Stitch Patterns\n",
    "\n",
    "Here are some basic and common knitting patterns which demonstrate how the visualization renders knit-purl patterns.\n",
    "\n",
    "## Jersey (A.K.A Stockinette)\n",
    "The most basic stitch pattern is a pattern of all knit-stitches. In this visualization, knit-stitches are visualized as blue lines connecting a parent loop to a child loop.\n"
   ],
   "id": "8da0f5c8a8441347"
  },
  {
   "metadata": {},
   "cell_type": "code",
   "source": [
    "# Ribbing pattern (alternating knit and purl stitches)\n",
    "width = 5\n",
    "height = 5\n",
    "jersey_graph = jersey_swatch(width, height)\n",
    "fig_jersey = visualize_knit_graph(\n",
    "    jersey_graph, \n",
    "    start_on_left=True, \n",
    "    graph_title=\"Jersey/ Stockinette Pattern\", \n",
    "    show_figure=True\n",
    ")"
   ],
   "id": "3907271a2bacab70",
   "outputs": [],
   "execution_count": null
  },
  {
   "metadata": {},
   "cell_type": "markdown",
   "source": [
    "## Knit-Purl Rib\n",
    "A knit-purl rib pattern creates alternating wales (i.e., columns) of knit and purl stitches. Knits are shown with blue lines and purls are shown with red lines. \n",
    "The positions of each stitch are shifted horizontally. Knits are shifted slightly left, and purls are shifted slightly right.  "
   ],
   "id": "1f0dd2dc82b78c92"
  },
  {
   "cell_type": "code",
   "id": "initial_id",
   "metadata": {
    "collapsed": true
   },
   "source": [
    "width = 6\n",
    "height = 5\n",
    "rib_graph = kp_rib_swatch(width, height)\n",
    "fig_rib = visualize_knit_graph(\n",
    "    rib_graph, \n",
    "    start_on_left=True, \n",
    "    graph_title=\"K1P1 Ribbing Pattern\", \n",
    "    show_figure=True\n",
    ")"
   ],
   "outputs": [],
   "execution_count": null
  },
  {
   "metadata": {},
   "cell_type": "markdown",
   "source": [
    "## Seed Stitch\n",
    "Seed stitch forms a checkered pattern of alternating knit and purl stitches. This shows the value of shifting knits and purls as it makes a clear zigzag pattern that reassembles the bumpy texture of a seed stitch swatch."
   ],
   "id": "4ec35ff59f83d76f"
  },
  {
   "metadata": {},
   "cell_type": "code",
   "source": [
    "# Seed stitch pattern\n",
    "width = 6\n",
    "height = 5\n",
    "seed_graph = seed_swatch(width, height)\n",
    "fig_seed = visualize_knit_graph(\n",
    "    seed_graph, \n",
    "    start_on_left=True, \n",
    "    graph_title=\"Seed Stitch Pattern\", \n",
    "    show_figure=True\n",
    ")"
   ],
   "id": "987e6cb7e37dd098",
   "outputs": [],
   "execution_count": null
  },
  {
   "metadata": {},
   "cell_type": "markdown",
   "source": [
    "# 3. Knitting a Tube\n",
    "\n",
    "Tubes are an important feature of seamless garment construction. To show the relative position of loops on the front and back side of the tube, the back of the tube is shifted vertically slightly. "
   ],
   "id": "815b3fee4d523fcd"
  },
  {
   "metadata": {},
   "cell_type": "code",
   "source": [
    "# Tube knitting\n",
    "width = 6\n",
    "height = 4\n",
    "tube_graph = jersey_tube(width, height)\n",
    "fig_tube = visualize_knit_graph(\n",
    "    tube_graph, \n",
    "    start_on_left=True, \n",
    "    graph_title=\"Jersey Tube (Circular Knitting)\", \n",
    "    show_figure=True\n",
    ")"
   ],
   "id": "8c881c0294ab71e3",
   "outputs": [],
   "execution_count": null
  },
  {
   "metadata": {},
   "cell_type": "markdown",
   "source": [
    "# 4. Lace Patterns\n",
    "\n",
    "Lace knitting creates decorative holes and directional shaping through increases and decreases.\n",
    "\n",
    "Decreases are formed by multiple parent-loops stitching through a single child loop. The decrease will lean towards the parent loop at the bottom of the stack. \n",
    "In the visualization, this effect is created by a weighted average of the position of its parents loops. \n",
    "\n",
    "Increases are formed by making loops without any parents, (i.e., yarn-overs). The position of these loops is the halfway point between both of it's yarn-wise neighbors in the same course."
   ],
   "id": "c4a51c7d179f1b14"
  },
  {
   "metadata": {},
   "cell_type": "code",
   "source": [
    "width = 13\n",
    "height = 6\n",
    "knit_graph = lace_mesh(width, height)\n",
    "\n",
    "fig = visualize_knit_graph(knit_graph, graph_title=\"Alternating Lace\")"
   ],
   "id": "67ba750889420e63",
   "outputs": [],
   "execution_count": null
  },
  {
   "metadata": {},
   "cell_type": "markdown",
   "source": [
    "# 5. Cable Knitting\n",
    "\n",
    "Cable knitting creates twisted rope-like patterns by crossing stitches over and under each other.\n",
    "\n",
    "This is visualized by swapping the horizontal position of loops involved in cables and changing the opacity of stitch edges to show which stitches are in front of the cable, and which fall behind the cable.\n",
    "\n",
    "This pattern shows a series of twists (1x1 stitch cables) that alternate crossing the stitch left-over-right or right-over-left."
   ],
   "id": "6550dbea21777e62"
  },
  {
   "metadata": {},
   "cell_type": "code",
   "source": [
    "# Cable pattern\n",
    "width = 8\n",
    "height = 4\n",
    "cable_graph = twist_cable(width, height)\n",
    "fig_cable = visualize_knit_graph(\n",
    "    cable_graph, \n",
    "    graph_title=\"Twist Cable Pattern\", \n",
    "    show_figure=True\n",
    ")"
   ],
   "id": "ff91a35f29096e69",
   "outputs": [],
   "execution_count": null
  }
 ],
 "metadata": {
  "kernelspec": {
   "display_name": "Python 3",
   "language": "python",
   "name": "python3"
  },
  "language_info": {
   "codemirror_mode": {
    "name": "ipython",
    "version": 2
   },
   "file_extension": ".py",
   "mimetype": "text/x-python",
   "name": "python",
   "nbconvert_exporter": "python",
   "pygments_lexer": "ipython2",
   "version": "2.7.6"
  }
 },
 "nbformat": 4,
 "nbformat_minor": 5
}
